{
 "cells": [
  {
   "cell_type": "markdown",
   "id": "f3e7173f",
   "metadata": {},
   "source": [
    "# Importando a Base de Dados"
   ]
  },
  {
   "cell_type": "code",
   "execution_count": 1,
   "id": "0a8f7ed7",
   "metadata": {},
   "outputs": [],
   "source": [
    "import pandas as pd"
   ]
  },
  {
   "cell_type": "code",
   "execution_count": 2,
   "id": "518cf9d4",
   "metadata": {},
   "outputs": [],
   "source": [
    "var_caminho = str(\"D:\\House Sales\\kc_house_data.csv\")\n",
    "\n",
    "data = pd.read_csv(var_caminho, sep=\",\")"
   ]
  },
  {
   "cell_type": "markdown",
   "id": "439a3027",
   "metadata": {},
   "source": [
    "#  Quantas casas estão disponíveis para compra?"
   ]
  },
  {
   "cell_type": "code",
   "execution_count": 3,
   "id": "79b6bd37",
   "metadata": {
    "scrolled": true
   },
   "outputs": [
    {
     "name": "stdout",
     "output_type": "stream",
     "text": [
      "Numero de casa disponiveis: 21436\n"
     ]
    }
   ],
   "source": [
    "# Estrategias:\n",
    "# 1 Selecionar a coluna ID\n",
    "# 2 contar o numero de valores unicos \n",
    "\n",
    "casasdisponiveis =len(data['id'].unique())\n",
    "\n",
    "print(f\"Numero de casa disponiveis: {casasdisponiveis}\")"
   ]
  },
  {
   "cell_type": "markdown",
   "id": "ca7f8e9b",
   "metadata": {},
   "source": [
    "# Quantos atributos as casas possuem?"
   ]
  },
  {
   "cell_type": "code",
   "execution_count": 4,
   "id": "1096e032",
   "metadata": {
    "scrolled": true
   },
   "outputs": [
    {
     "name": "stdout",
     "output_type": "stream",
     "text": [
      "Existem 19 atributos para as casas\n"
     ]
    }
   ],
   "source": [
    "# 1 ler as colunas da Base de Dados\n",
    "# 2 Retirar a coluna id e date das colunas\n",
    "# 3 ler o numero de colunas com  a funcao Len\n",
    "\n",
    "atributos = len(data.drop(['id','date'], axis=1).columns)\n",
    "\n",
    "print(f'Existem {atributos} atributos para as casas')"
   ]
  },
  {
   "cell_type": "markdown",
   "id": "1c9303ae",
   "metadata": {},
   "source": [
    "# Quais são os atributos das casas?"
   ]
  },
  {
   "cell_type": "code",
   "execution_count": 5,
   "id": "61670742",
   "metadata": {
    "scrolled": true
   },
   "outputs": [
    {
     "name": "stdout",
     "output_type": "stream",
     "text": [
      "Estes sao os atributos das casas: Index(['price', 'bedrooms', 'bathrooms', 'sqft_living', 'sqft_lot', 'floors',\n",
      "       'waterfront', 'view', 'condition', 'grade', 'sqft_above',\n",
      "       'sqft_basement', 'yr_built', 'yr_renovated', 'zipcode', 'lat', 'long',\n",
      "       'sqft_living15', 'sqft_lot15'],\n",
      "      dtype='object')\n"
     ]
    }
   ],
   "source": [
    "# 1 ler as colunas da Base de Dados\n",
    "# 2 Retirar a coluna id e date das colunas\n",
    "# 3 Exibir o nome das colunas\n",
    "\n",
    "quaisatributos = data.drop(['id','date'], axis=1).columns\n",
    "\n",
    "print(f'Estes sao os atributos das casas: {quaisatributos}')"
   ]
  },
  {
   "cell_type": "markdown",
   "id": "6916cbb0",
   "metadata": {},
   "source": [
    "# Qual a casa mais cara (casa com o maior valor de venda)?"
   ]
  },
  {
   "cell_type": "code",
   "execution_count": 6,
   "id": "1589631a",
   "metadata": {
    "scrolled": false
   },
   "outputs": [
    {
     "name": "stdout",
     "output_type": "stream",
     "text": [
      "A casa com maior valor e: 6762700020\n"
     ]
    }
   ],
   "source": [
    "# ler as colunas id e preco da base de dados\n",
    "# ordenar os valores do maior para o menor\n",
    "# resetar o index e remover a coluna criada pela funcao reset_index\n",
    "# exibir a linhas zero da coluna id\n",
    "\n",
    "maiorvalor = data[['id','price']].sort_values('price',ascending=False).reset_index(drop=True).loc[0,'id']\n",
    "\n",
    "print(f'A casa com maior valor e: {maiorvalor}')"
   ]
  },
  {
   "cell_type": "markdown",
   "id": "39830734",
   "metadata": {},
   "source": [
    "# Qual a casa com o maior número de quartos?"
   ]
  },
  {
   "cell_type": "code",
   "execution_count": 7,
   "id": "40addb2a",
   "metadata": {},
   "outputs": [
    {
     "name": "stdout",
     "output_type": "stream",
     "text": [
      "A casa com maior numero de quartos e: 2402100895\n"
     ]
    }
   ],
   "source": [
    "# ler as colunas id e quartos da base de dados\n",
    "# ordenas os valores da colunas quartos do maior para o menor\n",
    "# resetar o index e excluir a colunas idex criada pela funcao\n",
    "# exibir apenas os o valor do index zero da colunas id\n",
    "\n",
    "maiornumerodequartos = data[['id','bedrooms']].sort_values('bedrooms', ascending=False).reset_index(drop=True).loc[0,'id']\n",
    "\n",
    "print(f'A casa com maior numero de quartos e: {maiornumerodequartos}')"
   ]
  },
  {
   "cell_type": "markdown",
   "id": "609ff150",
   "metadata": {},
   "source": [
    "# Qual a soma total de quartos do conjunto de dados?"
   ]
  },
  {
   "cell_type": "code",
   "execution_count": 8,
   "id": "29cc9a5f",
   "metadata": {
    "scrolled": true
   },
   "outputs": [
    {
     "name": "stdout",
     "output_type": "stream",
     "text": [
      "A soma total de quartos e: 72854\n"
     ]
    }
   ],
   "source": [
    "# Selecionar a coluna quatos da base de dados\n",
    "# Somar todos os campos com a funcao sum da biblioteca pandas\n",
    "\n",
    "somaquartos = data['bedrooms'].sum()\n",
    "\n",
    "print(f'A soma total de quartos e: {somaquartos}')"
   ]
  },
  {
   "cell_type": "markdown",
   "id": "3f99a93d",
   "metadata": {},
   "source": [
    "# Quantas casas possuem 2 banheiros?"
   ]
  },
  {
   "cell_type": "code",
   "execution_count": 9,
   "id": "3cc8a112",
   "metadata": {
    "scrolled": true
   },
   "outputs": [
    {
     "name": "stdout",
     "output_type": "stream",
     "text": [
      "O numero de casas com dois Banheiros: 1930\n"
     ]
    }
   ],
   "source": [
    "# selecionar as colunas id e banheiros e travar nelas\n",
    "# filtrar somentes os id que tenham apenas 2 banheiros com ==\n",
    "# contar o numero de valores da coluna id com a funcao len\n",
    "\n",
    "doisbanheiros = len(data.loc[data['bathrooms'] == 2,['id','bathrooms']])\n",
    "\n",
    "print(f'O numero de casas com dois Banheiros: {doisbanheiros}')\n"
   ]
  },
  {
   "cell_type": "markdown",
   "id": "ed6b95cb",
   "metadata": {},
   "source": [
    "# Qual o preço médio de todas as casas no conjunto de dados?"
   ]
  },
  {
   "cell_type": "code",
   "execution_count": 10,
   "id": "a82a4f28",
   "metadata": {},
   "outputs": [
    {
     "name": "stdout",
     "output_type": "stream",
     "text": [
      "Preco medio das casas:\n"
     ]
    },
    {
     "data": {
      "text/plain": [
       "price    540088.141767\n",
       "dtype: float64"
      ]
     },
     "execution_count": 10,
     "metadata": {},
     "output_type": "execute_result"
    }
   ],
   "source": [
    "print('Preco medio das casas:')\n",
    "data[['price']].mean()\n"
   ]
  },
  {
   "cell_type": "markdown",
   "id": "a8794ccd",
   "metadata": {},
   "source": [
    "# Qual o preço médio de casas com 2 banheiros?"
   ]
  },
  {
   "cell_type": "code",
   "execution_count": 11,
   "id": "bee9f099",
   "metadata": {},
   "outputs": [
    {
     "name": "stdout",
     "output_type": "stream",
     "text": [
      "Preco medio das casas com dois Banheiros:\n"
     ]
    },
    {
     "data": {
      "text/plain": [
       "price    457889.718653\n",
       "dtype: float64"
      ]
     },
     "execution_count": 11,
     "metadata": {},
     "output_type": "execute_result"
    }
   ],
   "source": [
    "print('Preco medio das casas com dois Banheiros:')\n",
    "data.loc[data['bathrooms'] == 2,['price']].mean()\n"
   ]
  },
  {
   "cell_type": "markdown",
   "id": "17ea3198",
   "metadata": {},
   "source": [
    "# Qual o preço mínimo entre as casas com 3 quartos?"
   ]
  },
  {
   "cell_type": "code",
   "execution_count": 12,
   "id": "5fbbe540",
   "metadata": {},
   "outputs": [
    {
     "name": "stdout",
     "output_type": "stream",
     "text": [
      "O preco minimo entre as casas com 3 quarto e: 82000.0\n"
     ]
    }
   ],
   "source": [
    "minimoquarto = data.loc[(data['bedrooms'] == 3),'price'].min()\n",
    "\n",
    "print(f'O preco minimo entre as casas com 3 quarto e: {minimoquarto}')"
   ]
  },
  {
   "cell_type": "markdown",
   "id": "21cd2459",
   "metadata": {},
   "source": [
    "# Quantas casas possuem mais de 300 metros quadrados na sala de estar?"
   ]
  },
  {
   "cell_type": "code",
   "execution_count": 13,
   "id": "8ffa1d46",
   "metadata": {},
   "outputs": [
    {
     "name": "stdout",
     "output_type": "stream",
     "text": [
      "A base de dados possui 2258 casas com mais de 300 metros quadrados na sala de estar\n"
     ]
    }
   ],
   "source": [
    "# Converter pes para metros quadrados\n",
    "# selecionar apenas metros quadrados com mais de 300 metros quadrados\n",
    "# ler quantos resultados tivemos\n",
    "# Exibir na tela\n",
    "\n",
    "data['m2'] = data['sqft_living'] * 0.093\n",
    "\n",
    "saladeestar = len(data[data['m2'] > 300])\n",
    "\n",
    "print(f'A base de dados possui {saladeestar} casas com mais de 300 metros quadrados na sala de estar')"
   ]
  },
  {
   "cell_type": "markdown",
   "id": "14123a1e",
   "metadata": {},
   "source": [
    "# Quantas casas tem mais de 2 andares?"
   ]
  },
  {
   "cell_type": "code",
   "execution_count": 14,
   "id": "42e0a23a",
   "metadata": {},
   "outputs": [
    {
     "name": "stdout",
     "output_type": "stream",
     "text": [
      "Existem 782 casas com mais de dois andares\n"
     ]
    }
   ],
   "source": [
    "andares = len(data.loc[data['floors'] > 2,'id'])\n",
    "\n",
    "print(f'Existem {andares} casas com mais de dois andares')"
   ]
  },
  {
   "cell_type": "markdown",
   "id": "1fb84357",
   "metadata": {},
   "source": [
    "# Quantas casas tem vista para o mar?"
   ]
  },
  {
   "cell_type": "code",
   "execution_count": 15,
   "id": "a7017a6e",
   "metadata": {},
   "outputs": [
    {
     "name": "stdout",
     "output_type": "stream",
     "text": [
      "Existem 163 casas com vista para o mar\n"
     ]
    }
   ],
   "source": [
    "mar = len(data.loc[data['waterfront'] == True,'id'])\n",
    "\n",
    "print(f'Existem {mar} casas com vista para o mar')"
   ]
  },
  {
   "cell_type": "markdown",
   "id": "f43469ef",
   "metadata": {},
   "source": [
    "# Das casas com vista para o mar, quantas tem 3 quartos?"
   ]
  },
  {
   "cell_type": "code",
   "execution_count": 16,
   "id": "7ffcc1c0",
   "metadata": {},
   "outputs": [
    {
     "name": "stdout",
     "output_type": "stream",
     "text": [
      "Existem 64 casas com vista para o mar e 3 quartos\n"
     ]
    }
   ],
   "source": [
    "mar_quarto = len(data.loc[(data['waterfront'] == True) & (data['bedrooms'] == 3),'id'])\n",
    "\n",
    "print(f'Existem {mar_quarto} casas com vista para o mar e 3 quartos')"
   ]
  },
  {
   "cell_type": "markdown",
   "id": "f0b66596",
   "metadata": {},
   "source": [
    "# Das casas com mais de 300 metros quadrados de sala de estar, quantas tem mais de 2 banheiros?"
   ]
  },
  {
   "cell_type": "code",
   "execution_count": 17,
   "id": "b8a0613a",
   "metadata": {},
   "outputs": [
    {
     "name": "stdout",
     "output_type": "stream",
     "text": [
      "Existem 2201 casas com mais de 300 m2 e 2 banheiros\n"
     ]
    }
   ],
   "source": [
    "data['m2'] = data['sqft_living'] * 0.093\n",
    "\n",
    "bab = len(data.loc[(data['m2'] > 300) & (data['bathrooms'] > 2),'id'])\n",
    "\n",
    "print(f'Existem {bab} casas com mais de 300 m2 e 2 banheiros')"
   ]
  },
  {
   "cell_type": "code",
   "execution_count": null,
   "id": "c23f7da4",
   "metadata": {},
   "outputs": [],
   "source": []
  }
 ],
 "metadata": {
  "kernelspec": {
   "display_name": "Python 3 (ipykernel)",
   "language": "python",
   "name": "python3"
  },
  "language_info": {
   "codemirror_mode": {
    "name": "ipython",
    "version": 3
   },
   "file_extension": ".py",
   "mimetype": "text/x-python",
   "name": "python",
   "nbconvert_exporter": "python",
   "pygments_lexer": "ipython3",
   "version": "3.9.12"
  }
 },
 "nbformat": 4,
 "nbformat_minor": 5
}
